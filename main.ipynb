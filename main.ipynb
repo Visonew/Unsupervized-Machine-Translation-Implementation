{
 "cells": [
  {
   "cell_type": "code",
   "execution_count": 1,
   "metadata": {},
   "outputs": [],
   "source": [
    "from dataset import Dataset\n",
    "import torch\n",
    "from my_batch_loader import BatchLoader\n",
    "from models import Embedding, Generator, Discriminator\n",
    "from train import Trainer\n",
    "from torch import nn\n",
    "from functools import partial\n",
    "import math\n",
    "import copy\n",
    "from tqdm import tqdm\n",
    "from matplotlib import pyplot as plt\n",
    "import io\n",
    "from itertools import cycle"
   ]
  },
  {
   "cell_type": "code",
   "execution_count": 2,
   "metadata": {},
   "outputs": [
    {
     "name": "stdout",
     "output_type": "stream",
     "text": [
      "device is cuda\n"
     ]
    }
   ],
   "source": [
    "# device\n",
    "device = torch.device(\"cuda\" if torch.cuda.is_available() else \"cpu\")\n",
    "print('device is {}'.format(device))"
   ]
  },
  {
   "cell_type": "code",
   "execution_count": 3,
   "metadata": {},
   "outputs": [
    {
     "name": "stdout",
     "output_type": "stream",
     "text": [
      "Files already exit.\n",
      "finish loading dataset\n"
     ]
    }
   ],
   "source": [
    "# dataset\n",
    "ds = Dataset(corp_paths=('./data/train.lc.norm.tok.en', './data/train.lc.norm.tok.fr'),\n",
    "             emb_paths=('./data/wiki.multi.en.vec', './data/wiki.multi.fr.vec'),\n",
    "             pairs_paths=('./data/full_en_fr.npy', './data/full_fr_en.npy'),\n",
    "             max_length=20, test_size=0.1)\n",
    "print('finish loading dataset')"
   ]
  },
  {
   "cell_type": "code",
   "execution_count": 4,
   "metadata": {},
   "outputs": [
    {
     "name": "stdout",
     "output_type": "stream",
     "text": [
      "finish creating batches\n"
     ]
    }
   ],
   "source": [
    "# batch iterator\n",
    "batch_size = 64\n",
    "batch_iter = BatchLoader(ds, batch_size=batch_size)\n",
    "print('finish creating batches')"
   ]
  },
  {
   "cell_type": "code",
   "execution_count": 5,
   "metadata": {},
   "outputs": [
    {
     "name": "stdout",
     "output_type": "stream",
     "text": [
      "finish initializing models\n"
     ]
    }
   ],
   "source": [
    "src_embedding = Embedding(ds.emb_matrix['src'], requires_grad=True)\n",
    "tgt_embedding = Embedding(ds.emb_matrix['tgt'], requires_grad=True)\n",
    "\n",
    "bidirectional = True\n",
    "hidden_size = 300\n",
    "num_directions = 2 if bidirectional else 1\n",
    "assert hidden_size % num_directions == 0\n",
    "en_hidden_size = hidden_size // num_directions\n",
    "\n",
    "encoder_rnn = nn.LSTM(input_size=src_embedding.embedding_dim, hidden_size=en_hidden_size,\n",
    "                      num_layers=3, dropout=0.3, bidirectional=True)\n",
    "\n",
    "decoder_rnn = nn.LSTM(input_size=src_embedding.embedding_dim, hidden_size=300,\n",
    "                      num_layers=3, dropout=0.3)\n",
    "\n",
    "src_generator = Generator(hidden_size=hidden_size, vocab_size=ds.vocabs['src'].size)\n",
    "tgt_generator = Generator(hidden_size=hidden_size, vocab_size=ds.vocabs['tgt'].size)\n",
    "\n",
    "discriminator = Discriminator(max_length=20, encoder_hidden_size=300, hidden_size=1024, n_layers=3)\n",
    "# trainer\n",
    "trainer = Trainer(partial(ds.translate_batch_word_by_word, l1='src', l2='tgt'),\n",
    "                  partial(ds.translate_batch_word_by_word, l1='tgt', l2='src'),\n",
    "                  src_embedding, tgt_embedding, encoder_rnn, decoder_rnn, src_generator, tgt_generator,\n",
    "                  discriminator, hidden_size, 20,\n",
    "                  ds.get_sos_index('src'), ds.get_sos_index('tgt'),\n",
    "                  ds.get_eos_index('src'), ds.get_eos_index('tgt'),\n",
    "                  ds.get_pad_index('src'), ds.get_pad_index('tgt'),\n",
    "                  device, lr_core=0.0003, lr_disc=0.0005)\n",
    "\n",
    "#trainer.load('../saved_models/final_result1/')\n",
    "print('finish initializing models')"
   ]
  },
  {
   "cell_type": "code",
   "execution_count": 6,
   "metadata": {},
   "outputs": [
    {
     "name": "stderr",
     "output_type": "stream",
     "text": [
      "100%|███████████████████████████████████████████████████████████████████████████████████████████████████████████████████████████████████████████████████████| 1/1 [05:24<00:00, 324.65s/it]\n"
     ]
    }
   ],
   "source": [
    "# training\n",
    "num_epochs = 1\n",
    "core_losses = []\n",
    "disc_losses = []\n",
    "\n",
    "src_data = batch_iter.data_loader['train']['src']\n",
    "tgt_data = batch_iter.data_loader['train']['tgt']\n",
    "\n",
    "for e in tqdm(range(num_epochs)):\n",
    "    # re-initialize the parameters\n",
    "    trainer.re_init_params()\n",
    "    # the target source is lesss, so cycle it\n",
    "    for i, batch in enumerate(zip(src_data, cycle(tgt_data))):\n",
    "        # length first, batch second\n",
    "        src_batch = batch[0][1].transpose(0, 1)\n",
    "        tgt_batch = batch[1][1].transpose(0, 1)\n",
    "        b = {'src': src_batch, 'tgt': tgt_batch}\n",
    "        core_loss, disc_loss = trainer.train_step(b, weights=(1, 1, 1))\n",
    "        core_losses.append(core_loss)\n",
    "        disc_losses.append(disc_loss)\n",
    "\n",
    "    # set word_to_word translate false\n",
    "    trainer.word_word_translate = False    \n",
    "    \n",
    "    # deepcopy the current parameters\n",
    "    trainer.frozen_src2tgt = copy.deepcopy(trainer.src2tgt)\n",
    "    trainer.frozen_tgt2src = copy.deepcopy(trainer.tgt2src)\n",
    "\n",
    "    trainer.src_embedding = copy.deepcopy(trainer.src_embedding)\n",
    "    trainer.tgt_embedding = copy.deepcopy(trainer.tgt_embedding)\n",
    "    trainer.encoder_rnn = copy.deepcopy(trainer.encoder_rnn)\n",
    "    trainer.decoder_rnn = copy.deepcopy(trainer.decoder_rnn)\n",
    "    trainer.src_hat = copy.deepcopy(trainer.src_hat)\n",
    "    trainer.tgt_hat = copy.deepcopy(trainer.tgt_hat)\n",
    "    \n",
    "    # freeze the translaters\n",
    "    for param in trainer.frozen_src2tgt.parameters():\n",
    "        param.requires_grad = False\n",
    "    for param in trainer.frozen_tgt2src.parameters():\n",
    "        param.requires_grad = False\n",
    "        \n",
    "#     trainer.word_word_translate = False\n",
    "#     trainer.frozen_src2tgt = trainer.src2tgt\n",
    "#     trainer.frozen_tgt2src = trainer.tgt2src\n",
    "#     trainer.src2tgt = copy.deepcopy(trainer.src2tgt)\n",
    "#     trainer.tgt2src = copy.deepcopy(trainer.tgt2src)\n",
    "#     for param in trainer.frozen_src2tgt.parameters():\n",
    "#         param.requires_grad = False\n",
    "#     for param in trainer.frozen_tgt2src.parameters():\n",
    "#         param.requires_grad = False\n"
   ]
  },
  {
   "cell_type": "code",
   "execution_count": 7,
   "metadata": {},
   "outputs": [
    {
     "data": {
      "image/png": "[encoded data removed]",
      "text/plain": [
       "<Figure size 432x288 with 1 Axes>"
      ]
     },
     "metadata": {
      "needs_background": "light"
     },
     "output_type": "display_data"
    }
   ],
   "source": [
    "plt.plot(core_losses)\n",
    "plt.show()"
   ]
  },
  {
   "cell_type": "code",
   "execution_count": 8,
   "metadata": {},
   "outputs": [
    {
     "data": {
      "image/png": "[encoded data removed]",
      "text/plain": [
       "<Figure size 432x288 with 1 Axes>"
      ]
     },
     "metadata": {
      "needs_background": "light"
     },
     "output_type": "display_data"
    }
   ],
   "source": [
    "plt.plot(disc_losses)\n",
    "plt.show()"
   ]
  },
  {
   "cell_type": "code",
   "execution_count": 9,
   "metadata": {},
   "outputs": [
    {
     "name": "stdout",
     "output_type": "stream",
     "text": [
      "model saved.\n"
     ]
    }
   ],
   "source": [
    "torch.save(trainer.src2tgt, './saved_models/en-fr/' + str(num_epochs) + '_word_to_word_1_' + str(num_epochs - 1) + '.src2tgt.pt')\n",
    "torch.save(trainer.tgt2src, './saved_models/en-fr/' + str(num_epochs) + '_word_to_word_1_' + str(num_epochs - 1) + '.tgt2src.pt')\n",
    "print('model saved.')"
   ]
  },
  {
   "cell_type": "code",
   "execution_count": 10,
   "metadata": {},
   "outputs": [
    {
     "name": "stdout",
     "output_type": "stream",
     "text": [
      "./predictions/en-fr/src_predictions_bs_64_ne_1_w_1_s\n"
     ]
    }
   ],
   "source": [
    "# trainer.save('./saved_models/20_word_to_word_5_self/')\n",
    "# print('model saved.')\n",
    "path = './predictions/en-fr/src_predictions_bs_' + str(batch_size) + '_ne_' + str(num_epochs) + '_w_'+ str(1) + '_s'\n",
    "print(path)"
   ]
  },
  {
   "cell_type": "code",
   "execution_count": 11,
   "metadata": {},
   "outputs": [
    {
     "name": "stdout",
     "output_type": "stream",
     "text": [
      "finish predicting\n"
     ]
    }
   ],
   "source": [
    "# predict on source (en to fr)\n",
    "src_test = batch_iter.data_loader['test']['src']\n",
    "tgt_test = batch_iter.data_loader['test']['tgt']\n",
    "src_predictions = []\n",
    "for i, batch in enumerate(src_test):\n",
    "    length = batch[0]\n",
    "    b = batch[1].transpose(0, 1)\n",
    "    src_predictions += trainer.predict_on_test((length, b), visualize=ds.visualize_batch, l1='src', l2='tgt', n_iters=20)\n",
    "with io.open(path, 'w') as f:\n",
    "   print(*src_predictions, sep='\\n', file=f)\n",
    "print('finish predicting')"
   ]
  },
  {
   "cell_type": "code",
   "execution_count": null,
   "metadata": {},
   "outputs": [],
   "source": []
  }
 ],
 "metadata": {
  "kernelspec": {
   "display_name": "Python 3",
   "language": "python",
   "name": "python3"
  },
  "language_info": {
   "codemirror_mode": {
    "name": "ipython",
    "version": 3
   },
   "file_extension": ".py",
   "mimetype": "text/x-python",
   "name": "python",
   "nbconvert_exporter": "python",
   "pygments_lexer": "ipython3",
   "version": "3.7.7"
  }
 },
 "nbformat": 4,
 "nbformat_minor": 4
}
